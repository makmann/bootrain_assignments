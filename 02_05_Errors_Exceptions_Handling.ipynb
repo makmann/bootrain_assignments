{
 "cells": [
  {
   "cell_type": "markdown",
   "metadata": {},
   "source": [
    "# Assignments for \"Errors and Exception Handling \""
   ]
  },
  {
   "cell_type": "markdown",
   "metadata": {},
   "source": [
    "1. Let us define a division operation inside a function (using `def`) but to get an error, define the denominator as 0. So, type properly except statement."
   ]
  },
  {
   "cell_type": "code",
   "execution_count": 12,
   "metadata": {},
   "outputs": [
    {
     "name": "stdout",
     "output_type": "stream",
     "text": [
      "Division by zero error occured!!!! division by zero\n"
     ]
    }
   ],
   "source": [
    "def div_operation(dividend,denominator):\n",
    "    result=0\n",
    "    try:\n",
    "        result=dividend/denominator\n",
    "    except ZeroDivisionError as e:\n",
    "        print (\"Division by zero error occured!!!!\",e)\n",
    "    return result\n",
    "        \n",
    "        \n",
    "a=div_operation(10,0)\n"
   ]
  },
  {
   "cell_type": "markdown",
   "metadata": {},
   "source": [
    "2. It is possible to get multiple errors after the execution of one try block. So, please define an error-exception issue with `NameError`."
   ]
  },
  {
   "cell_type": "code",
   "execution_count": 4,
   "metadata": {},
   "outputs": [
    {
     "name": "stdout",
     "output_type": "stream",
     "text": [
      "NameError occured!!!! name 'y' is not defined\n"
     ]
    }
   ],
   "source": [
    "def operation1(num):\n",
    "    x=0\n",
    "    try:\n",
    "        x = num**y\n",
    "    except NameError as e:\n",
    "        print(\"NameError occured!!!!\",e)\n",
    "    return x\n",
    "       \n",
    "a=operation1(5)\n"
   ]
  },
  {
   "cell_type": "markdown",
   "metadata": {},
   "source": [
    "3. Please define a function and with this function, generate a `ValueError` exception simply by entering a string instead of numerical value."
   ]
  },
  {
   "cell_type": "code",
   "execution_count": 34,
   "metadata": {},
   "outputs": [
    {
     "name": "stdin",
     "output_type": "stream",
     "text": [
      "Enter a number: a\n"
     ]
    },
    {
     "name": "stdout",
     "output_type": "stream",
     "text": [
      "value error occured!!!! invalid literal for int() with base 10: 'a'\n"
     ]
    }
   ],
   "source": [
    "\n",
    "def operation2():\n",
    "    x=0\n",
    "    try:\n",
    "        num=int(input(\"Enter a number:\"))   \n",
    "        x = num**5\n",
    "    except ValueError as e:\n",
    "        print(\"value error occured!!!!\",e)\n",
    "    return x\n",
    "\n",
    "\n",
    "a=operation2()\n"
   ]
  },
  {
   "cell_type": "code",
   "execution_count": null,
   "metadata": {},
   "outputs": [],
   "source": []
  },
  {
   "cell_type": "code",
   "execution_count": null,
   "metadata": {},
   "outputs": [],
   "source": []
  }
 ],
 "metadata": {
  "kernelspec": {
   "display_name": "Python 3",
   "language": "python",
   "name": "python3"
  },
  "language_info": {
   "codemirror_mode": {
    "name": "ipython",
    "version": 3
   },
   "file_extension": ".py",
   "mimetype": "text/x-python",
   "name": "python",
   "nbconvert_exporter": "python",
   "pygments_lexer": "ipython3",
   "version": "3.7.6"
  }
 },
 "nbformat": 4,
 "nbformat_minor": 4
}
