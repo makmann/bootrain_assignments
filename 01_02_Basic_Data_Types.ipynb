{
 "cells": [
  {
   "cell_type": "markdown",
   "metadata": {},
   "source": [
    "# Assignments for \"Basic Data Types\" "
   ]
  },
  {
   "cell_type": "markdown",
   "metadata": {},
   "source": [
    "1. Suppose you invested in Bitcoin at the end of 2017 when Bitcoin gained a lot of value. What would be your money at the end of a week if you had invested \\$1000 with an average daily increase of 12\\% ? You can solve the problem using Python."
   ]
  },
  {
   "cell_type": "code",
   "execution_count": 3,
   "metadata": {},
   "outputs": [
    {
     "name": "stdout",
     "output_type": "stream",
     "text": [
      "Total money at the end of the week: 2210.68\n"
     ]
    }
   ],
   "source": [
    "##### Help\n",
    "\n",
    "# Create a variable capital ($1000)\n",
    "\n",
    "# Create a variable for daily growth (12%)\n",
    "\n",
    "# Create a variable for period (7)\n",
    "\n",
    "# Calculate the final growth rate\n",
    "\n",
    "# Calculate result\n",
    "\n",
    "# Print result\n",
    "\n",
    "capital=1000\n",
    "daily_increase_percent=12\n",
    "daily_growth_ratio=1.12\n",
    "period=7\n",
    "\n",
    "total_money_in_period = capital * (daily_growth_ratio**period)\n",
    "\n",
    "\n",
    "print(\"Total money at the end of the week: {:.2f}\".format(total_money_in_period))\n"
   ]
  },
  {
   "cell_type": "markdown",
   "metadata": {},
   "source": [
    "2. Print the text in quotes with Python. However, you must get the numbers from variables using `.format()` notation. <br> Because the text is long, you might consider writing in two lines:\n",
    "\n",
    "        `\"When we buy bitcoin with 1000 USD at the beginning of the week, we would earn 1210.68 USD at the end of the week, with an average gain of 12\\%.\"`"
   ]
  },
  {
   "cell_type": "code",
   "execution_count": 4,
   "metadata": {},
   "outputs": [
    {
     "name": "stdout",
     "output_type": "stream",
     "text": [
      "`\"When we buy bitcoin with 1000 USD at the beginning of the week, \n",
      "we would earn 1210.68 USD at the end of the week, with an average gain of 12\\%.\"`\n"
     ]
    }
   ],
   "source": [
    "print(\"\"\"`\"When we buy bitcoin with {} USD at the beginning of the week, \\nwe would earn {:.2f} USD at the end of the week, with an average gain of {}\\%.\"`\"\"\".format(capital,total_money_in_period-capital,daily_increase_percent))"
   ]
  },
  {
   "cell_type": "markdown",
   "metadata": {},
   "source": [
    "3. Get the temperature in Fahrenheit from user and write a code to convert it to Celcius. For conversion, you can use this formula: C = (5/9) * (F - 32)\n",
    "\n",
    "        Enter the temperature in Fahrenheit: \n",
    "        user --> 26\n",
    "        output --> Temperature (C) : -3.33"
   ]
  },
  {
   "cell_type": "code",
   "execution_count": 25,
   "metadata": {},
   "outputs": [
    {
     "name": "stdin",
     "output_type": "stream",
     "text": [
      "Enter the temperature in Fahrenheit: 26\n"
     ]
    },
    {
     "name": "stdout",
     "output_type": "stream",
     "text": [
      "Temperature (C): -3.33\n"
     ]
    }
   ],
   "source": [
    "temprature_in_Fahrenheit = input(\"Enter the temperature in Fahrenheit:\") \n",
    "temprature_in_Fahrenheit=float(temprature_in_Fahrenheit)\n",
    "\n",
    "temprature_in_Celcius = (5/9)*(temprature_in_Fahrenheit - 32)\n",
    "print(\"\"\"Temperature (C): {:.2f}\"\"\".format(temprature_in_Celcius))\n"
   ]
  },
  {
   "cell_type": "markdown",
   "metadata": {},
   "source": [
    "4. Get a three digit number the from user and calculate the sum of the digits in the integer.\n",
    "\n",
    "        user --> 365\n",
    "        output --> \"The sum of digits in the number is 14"
   ]
  },
  {
   "cell_type": "code",
   "execution_count": 26,
   "metadata": {},
   "outputs": [
    {
     "name": "stdin",
     "output_type": "stream",
     "text": [
      "Please enter three digit number: 365\n"
     ]
    },
    {
     "name": "stdout",
     "output_type": "stream",
     "text": [
      "The sum of digits in the number is :14\n"
     ]
    }
   ],
   "source": [
    "three_digit_number = input(\"Please enter three digit number:\")\n",
    "\n",
    "three_digit_number = str(three_digit_number)\n",
    "\n",
    "first_digit = int(three_digit_number[0])\n",
    "second_digit = int(three_digit_number[1])\n",
    "third_digit = int(three_digit_number[2])\n",
    "\n",
    "sum=first_digit+second_digit+third_digit\n",
    "print(\"The sum of digits in the number is :{}\".format(sum))\n"
   ]
  },
  {
   "cell_type": "markdown",
   "metadata": {},
   "source": [
    "5. Write some code to calculate the hypotenuse of a right angled triangle. Get the side lengths from the user.\n",
    "\n",
    "        user --> first side lenth : 6\n",
    "        user --> first side lenth : 8\n",
    "        output --> \"The length of the hypotenuse is 10"
   ]
  },
  {
   "cell_type": "code",
   "execution_count": 3,
   "metadata": {},
   "outputs": [
    {
     "name": "stdin",
     "output_type": "stream",
     "text": [
      "Enter first side lenght: 6\n",
      "Enter second side lenght: 8\n"
     ]
    },
    {
     "name": "stdout",
     "output_type": "stream",
     "text": [
      "The length of the hypotenuse is : 10\n"
     ]
    }
   ],
   "source": [
    "first_side=int(input(\"Enter first side lenght:\"))\n",
    "second_side=int(input(\"Enter second side lenght:\"))\n",
    "hypotenuse= int((first_side**2+second_side**2)**(1/2))\n",
    "\n",
    "print(\"The length of the hypotenuse is :\", hypotenuse)\n",
    "\n",
    "\n"
   ]
  },
  {
   "cell_type": "code",
   "execution_count": null,
   "metadata": {},
   "outputs": [],
   "source": []
  }
 ],
 "metadata": {
  "kernelspec": {
   "display_name": "Python 3",
   "language": "python",
   "name": "python3"
  },
  "language_info": {
   "codemirror_mode": {
    "name": "ipython",
    "version": 3
   },
   "file_extension": ".py",
   "mimetype": "text/x-python",
   "name": "python",
   "nbconvert_exporter": "python",
   "pygments_lexer": "ipython3",
   "version": "3.7.6"
  }
 },
 "nbformat": 4,
 "nbformat_minor": 4
}
