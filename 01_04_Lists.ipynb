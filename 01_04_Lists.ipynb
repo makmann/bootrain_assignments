{
 "cells": [
  {
   "cell_type": "markdown",
   "metadata": {},
   "source": [
    "# Assignments for \"Lists\" "
   ]
  },
  {
   "cell_type": "markdown",
   "metadata": {},
   "source": [
    "1. Write a code to compute the sum of the two lowest numbers and the two highest numbers in the following list.\n",
    "\n",
    "      my_list = [34, 56, 76, 45, 2, 12, 67, 98, 37, 54, 66]"
   ]
  },
  {
   "cell_type": "code",
   "execution_count": 12,
   "metadata": {},
   "outputs": [
    {
     "name": "stdout",
     "output_type": "stream",
     "text": [
      "[2, 12, 34, 37, 45, 54, 56, 66, 67, 76, 98]\n",
      "the sum of the two lowest numbers and the two highest numbers: 188\n"
     ]
    }
   ],
   "source": [
    " my_list = [34, 56, 76, 45, 2, 12, 67, 98, 37, 54, 66]\n",
    " my_list.sort()\n",
    "sum_2_lowest=my_list[0]+my_list[1]\n",
    "sum_2_highest= my_list[-1]+my_list[-2]\n",
    "print(my_list)\n",
    "\n",
    "print(\"the sum of the two lowest numbers and the two highest numbers:\",sum_2_lowest+sum_2_highest)\n"
   ]
  },
  {
   "cell_type": "markdown",
   "metadata": {},
   "source": [
    "2. The following two lists contain student names and scores. Write a code that gets the name from the user and prints the score of that student.\n",
    "\n",
    "        names = [\"David\", \"Michael\", \"John\", \"James\", \"Greg\", \"Mark\", \"William\", \"Richard\", \"Thomas\", \"Steven\", \n",
    "                 \"Mary\", \"Susan\", \"Maria\", \"Karen\", \"Lisa\", \"Linda\", \"Donna\", \"Patricia\", \"Debra\", \"Eric\"]\n",
    "\n",
    "        scores = [99, 87, 78, 86, 68, 94, 76, 97, 56, 98, 76, 87, 79, 90, 73, 93, 82, 69, 97, 98]"
   ]
  },
  {
   "cell_type": "code",
   "execution_count": 29,
   "metadata": {},
   "outputs": [
    {
     "name": "stdin",
     "output_type": "stream",
     "text": [
      "Enter a student name John\n"
     ]
    },
    {
     "name": "stdout",
     "output_type": "stream",
     "text": [
      "Score of John is 78 \n"
     ]
    }
   ],
   "source": [
    " names = [\"David\", \"Michael\", \"John\", \"James\", \"Greg\", \"Mark\", \"William\", \"Richard\", \"Thomas\", \"Steven\", \n",
    "          \"Mary\", \"Susan\", \"Maria\", \"Karen\", \"Lisa\", \"Linda\", \"Donna\", \"Patricia\", \"Debra\", \"Eric\"]\n",
    "\n",
    " scores = [99, 87, 78, 86, 68, 94, 76, 97, 56, 98, 76, 87, 79, 90, 73, 93, 82, 69, 97, 98]\n",
    "\n",
    "get_name_of_student=input(\"Enter a student name\");\n",
    "index_of_selected_student=names.index(get_name_of_student)\n",
    "score_of_selected_student=scores[index_of_selected_student]\n",
    "print(\"Score of {} is {} \".format(get_name_of_student,score_of_selected_student))\n",
    "\n",
    "\n"
   ]
  },
  {
   "cell_type": "markdown",
   "metadata": {},
   "source": [
    "3. By using the two lists above, what is the maximum score and how many students got that score?"
   ]
  },
  {
   "cell_type": "code",
   "execution_count": 28,
   "metadata": {},
   "outputs": [
    {
     "name": "stdout",
     "output_type": "stream",
     "text": [
      "Maximum score is: 99\n",
      "How many students get maximum score: 1\n"
     ]
    }
   ],
   "source": [
    "scores.sort()\n",
    "maximum_num = scores[-1]\n",
    "max_count=scores.count(maximum_num)\n",
    "print(\"Maximum score is: {}\".format(maximum_num))\n",
    "print(\"How many students get maximum score: {}\".format(max_count))"
   ]
  },
  {
   "cell_type": "markdown",
   "metadata": {},
   "source": [
    "4. We can confuse about how many days a month is. Create a list to handle it. You will have month names and day counts in your list together as a nested list."
   ]
  },
  {
   "cell_type": "code",
   "execution_count": 12,
   "metadata": {},
   "outputs": [
    {
     "name": "stdout",
     "output_type": "stream",
     "text": [
      "Months with Days list: [['January', 31], ['February', 28], ['March', 31], ['April', 30], ['May', 31], ['June', 30], ['July', 31], ['August', 31], ['September', 30], ['October', 31], ['November', 30], ['December', 31]]\n"
     ]
    }
   ],
   "source": [
    "months_with_days=[[\"January\",31],[\"February\",28],[\"March\",31],[\"April\",30],[\"May\",31],[\"June\",30],[\"July\",31],[\"August\",31],[\"September\",30],[\"October\",31],[\"November\",30],[\"December\",31]]\n",
    "print(\"Months with Days list:\", months_with_days)"
   ]
  },
  {
   "cell_type": "markdown",
   "metadata": {},
   "source": [
    "5. Now create lists of months for each season. Get month names and day counts from the list that you create before with slicing. Name the lists with seasons."
   ]
  },
  {
   "cell_type": "code",
   "execution_count": 36,
   "metadata": {},
   "outputs": [
    {
     "name": "stdout",
     "output_type": "stream",
     "text": [
      "Autumn: [['September', 30], ['October', 31], ['November', 30]]\n",
      "Winter: [['December', 31], ['January', 31], ['February', 28]]\n",
      "Spring: [['March', 31], ['April', 30], ['May', 31]]\n",
      "Summer: [['June', 30], ['July', 31], ['August', 31]]\n"
     ]
    }
   ],
   "source": [
    "autumn=months_with_days[8:11]\n",
    "winter=months_with_days[11:]+months_with_days[0:2]\n",
    "spring=months_with_days[2:5]\n",
    "summer=months_with_days[5:8]\n",
    "print(\"Autumn:\",autumn)\n",
    "print(\"Winter:\",winter)\n",
    "print(\"Spring:\",spring)\n",
    "print(\"Summer:\",summer)"
   ]
  },
  {
   "cell_type": "markdown",
   "metadata": {},
   "source": [
    "6. Finally, from the list in the previous question, calculate how many days the summer season lasts."
   ]
  },
  {
   "cell_type": "code",
   "execution_count": 37,
   "metadata": {},
   "outputs": [
    {
     "name": "stdout",
     "output_type": "stream",
     "text": [
      "Days of summer season is:  92\n"
     ]
    }
   ],
   "source": [
    "days_of_summer=summer[0][1]+summer[1][1]+summer[2][1]\n",
    "print(\"Days of summer season is: \",days_of_summer)"
   ]
  },
  {
   "cell_type": "code",
   "execution_count": null,
   "metadata": {},
   "outputs": [],
   "source": []
  }
 ],
 "metadata": {
  "kernelspec": {
   "display_name": "Python 3",
   "language": "python",
   "name": "python3"
  },
  "language_info": {
   "codemirror_mode": {
    "name": "ipython",
    "version": 3
   },
   "file_extension": ".py",
   "mimetype": "text/x-python",
   "name": "python",
   "nbconvert_exporter": "python",
   "pygments_lexer": "ipython3",
   "version": "3.7.6"
  }
 },
 "nbformat": 4,
 "nbformat_minor": 4
}
