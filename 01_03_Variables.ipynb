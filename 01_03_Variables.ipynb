{
 "cells": [
  {
   "cell_type": "markdown",
   "metadata": {},
   "source": [
    "# Assignments for \"What are Variables?\" "
   ]
  },
  {
   "cell_type": "markdown",
   "metadata": {},
   "source": [
    "1. Define two variables as `x` and `y`. Assign `1` to `x` and `'1'` to `y`. Then check if two variables have the same value and type."
   ]
  },
  {
   "cell_type": "code",
   "execution_count": 5,
   "metadata": {},
   "outputs": [
    {
     "name": "stdout",
     "output_type": "stream",
     "text": [
      "The two variables have same value: True \n",
      "The two variables have same type: True\n"
     ]
    }
   ],
   "source": [
    "x=1\n",
    "y=1\n",
    "\n",
    "check1 = x==y\n",
    "check2 = type(x)==type(y)\n",
    "\n",
    "print (\"The two variables have same value: {} \\nThe two variables have same type: {}\".format(check1,check2))"
   ]
  },
  {
   "cell_type": "markdown",
   "metadata": {},
   "source": [
    "2. Change the type of variable `y` and make the two variables the same."
   ]
  },
  {
   "cell_type": "code",
   "execution_count": 13,
   "metadata": {},
   "outputs": [
    {
     "name": "stdout",
     "output_type": "stream",
     "text": [
      "The two variables have same value: True \n",
      "The two variables have same type: True\n"
     ]
    }
   ],
   "source": [
    "y=bool(y)\n",
    "\n",
    "x=y\n",
    "\n",
    "check1 = x==y\n",
    "check2 = type(x)==type(y)\n",
    "\n",
    "print (\"The two variables have same value: {} \\nThe two variables have same type: {}\".format(check1,check2))\n"
   ]
  },
  {
   "cell_type": "code",
   "execution_count": null,
   "metadata": {},
   "outputs": [],
   "source": []
  }
 ],
 "metadata": {
  "kernelspec": {
   "display_name": "Python 3",
   "language": "python",
   "name": "python3"
  },
  "language_info": {
   "codemirror_mode": {
    "name": "ipython",
    "version": 3
   },
   "file_extension": ".py",
   "mimetype": "text/x-python",
   "name": "python",
   "nbconvert_exporter": "python",
   "pygments_lexer": "ipython3",
   "version": "3.7.6"
  }
 },
 "nbformat": 4,
 "nbformat_minor": 4
}
