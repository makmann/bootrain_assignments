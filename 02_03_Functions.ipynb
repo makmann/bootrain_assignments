{
 "cells": [
  {
   "cell_type": "markdown",
   "metadata": {},
   "source": [
    "# Assignments for \"Functions\""
   ]
  },
  {
   "cell_type": "markdown",
   "metadata": {},
   "source": [
    "1. A prime number is an integer greater than one that is only divisible by one and itself. Write a function that determines whether or not its parameter is prime, returns `True` if it is and `False` otherwise. Write a main program that reads an integer from the user and displays a message indicating whether or not it is prime. Ensure that the main program does not run if the file containing your solution is imported into another program.<br>"
   ]
  },
  {
   "cell_type": "code",
   "execution_count": 2,
   "metadata": {},
   "outputs": [
    {
     "name": "stdin",
     "output_type": "stream",
     "text": [
      "Please enter a number 25887777\n"
     ]
    },
    {
     "name": "stdout",
     "output_type": "stream",
     "text": [
      "This number is prime\n"
     ]
    }
   ],
   "source": [
    "def Prime_or_Not(num):\n",
    "    is_prime=True\n",
    "    \n",
    "    for i in range(2,num//2): \n",
    "        if num%i==0 :\n",
    "            is_prime=False\n",
    "            break\n",
    "\n",
    "def main():\n",
    "    num=int(input(\"Please enter a number\"))\n",
    "    prime = Prime_or_Not(num)\n",
    "\n",
    "    if prime==False:\n",
    "        print(\"This number is not prime\")\n",
    "    else:\n",
    "        print(\"This number is prime\") \n",
    "\n",
    "\n",
    "if __name__=='__main__':\n",
    "    main() \n",
    "        \n",
    "        \n"
   ]
  },
  {
   "cell_type": "markdown",
   "metadata": {},
   "source": [
    "2. Please write a function that passes each element of a list only once to a new list. We usually do this with the `set()` command, but let us not use this command this time.\n",
    "\n",
    "    Example:\n",
    "    \n",
    "        unique_list([1,2,2,3,3,4,4]) = [1,2,3,4] <br><br>"
   ]
  },
  {
   "cell_type": "code",
   "execution_count": 6,
   "metadata": {},
   "outputs": [
    {
     "name": "stdout",
     "output_type": "stream",
     "text": [
      "Unique list is  [1, 2, 3, 4, 5, 6]\n"
     ]
    }
   ],
   "source": [
    "\n",
    "def unique_maker(my_list):\n",
    "    new_list=[]\n",
    "    for i in my_list:\n",
    "        if i not in new_list:\n",
    "            new_list.append(i)\n",
    "    return new_list\n",
    "\n",
    "my_list=[1,2,2,3,3,4,4,5,5,6,6,6]\n",
    "new_list = unique_maker(my_list)         \n",
    "print(\"Unique list is \",new_list)    \n",
    "\n"
   ]
  },
  {
   "cell_type": "markdown",
   "metadata": {},
   "source": [
    "3. There are many built-in modules in Python. By importing one of the modules on time, write a function that takes the date of birth as a parameter and returns the age.<br><br>"
   ]
  },
  {
   "cell_type": "code",
   "execution_count": 20,
   "metadata": {},
   "outputs": [
    {
     "name": "stdout",
     "output_type": "stream",
     "text": [
      "Your age is  43\n"
     ]
    }
   ],
   "source": [
    "from datetime import datetime\n",
    "\n",
    "def age_finder(d):\n",
    "    t=datetime.today()\n",
    "    y= int((t-d).days / 365)\n",
    "    return y\n",
    "\n",
    "d=datetime(1976,10,5)\n",
    "age=age_finder(d)\n",
    "print(\"Your age is \",age)\n",
    "\n"
   ]
  },
  {
   "cell_type": "markdown",
   "metadata": {},
   "source": [
    "4. Get a number from the user and calculate the factorial of it by using a function.<br><br>"
   ]
  },
  {
   "cell_type": "code",
   "execution_count": 34,
   "metadata": {},
   "outputs": [
    {
     "name": "stdin",
     "output_type": "stream",
     "text": [
      "Enter number 5\n"
     ]
    },
    {
     "name": "stdout",
     "output_type": "stream",
     "text": [
      "The result of the factorial is : 120\n"
     ]
    }
   ],
   "source": [
    "def factorial_finder(num):\n",
    "    fact=1\n",
    "    for i in range(1,num+1):\n",
    "        fact=fact*i\n",
    "    return fact\n",
    "\n",
    "num=int(input(\"Enter number\"))\n",
    "result=factorial_finder(num)\n",
    "print(\"The result of the factorial is :\",result)    \n",
    " "
   ]
  },
  {
   "cell_type": "markdown",
   "metadata": {},
   "source": [
    "5. Write a function named `perfect()` that determines if the parameter number is a perfect number. Use this function in a program that determines and prints all the perfect numbers between 1 and 1000.\n",
    "\n",
    "    An integer number is said to be a `perfect number` if its factors (including 1, but not the number itself) sum to the number. \n",
    "\n",
    "        E.g.: 6 is a perfect number because 6 = 1 + 2 + 3.<br><br>"
   ]
  },
  {
   "cell_type": "code",
   "execution_count": 37,
   "metadata": {},
   "outputs": [
    {
     "name": "stdout",
     "output_type": "stream",
     "text": [
      "6 is perfect\n",
      "28 is perfect\n",
      "496 is perfect\n"
     ]
    }
   ],
   "source": [
    "def perfect(number):\n",
    "    \n",
    "    total=0\n",
    "    for i in range(1,number):\n",
    "        if number%i==0:  # check is factor of the number..\n",
    "            total+=i\n",
    "    \n",
    "    is_perfect=total==number\n",
    "    \n",
    "    return is_perfect\n",
    "\n",
    "\n",
    "for i in range(1,1001):\n",
    "    perf=perfect(i)\n",
    "    if perf:\n",
    "        print(i,\"is perfect\")\n",
    "#     else:\n",
    "#         print(i,\"is not perfect\")\n",
    "\n",
    "\n",
    "    \n",
    "     "
   ]
  },
  {
   "cell_type": "markdown",
   "metadata": {},
   "source": [
    "6. Write a Python function that prints out the first n rows of [Pascal's triangle](https://en.wikipedia.org/wiki/Pascal%27s_triangle). \n",
    "\n",
    "<div style=\"text-align:center;\">\n",
    "    <img src=\"https://bootrain-lms-assets.s3.eu-central-1.amazonaws.com/bootrain-lms-static/images/02_IntermediatePython/03_PascalsTriangle.gif\" width=\"200\">\n",
    "    \n",
    "    In Pascal's triangle, each number is the sum of the two numbers directly above it.\n",
    "</div>"
   ]
  },
  {
   "cell_type": "code",
   "execution_count": 58,
   "metadata": {},
   "outputs": [
    {
     "name": "stdout",
     "output_type": "stream",
     "text": [
      "[1]\n",
      "[1, 1]\n",
      "[1, 2, 1]\n",
      "[1, 3, 3, 1]\n",
      "[1, 4, 6, 4, 1]\n"
     ]
    }
   ],
   "source": [
    "def Pascal_Triangle(row_no):\n",
    "    rows=[ [1],[1,1]]\n",
    "\n",
    "    for r in range(2,row_no):\n",
    "\n",
    "        new_row = [1] # a rows's first element is always one\n",
    "\n",
    "\n",
    "        for i in range(1,r):   #  calculate rows' middle elements\n",
    "\n",
    "            previous_row_previous_index_cell=rows[r-1][i-1]\n",
    "\n",
    "            previous_row_same_index_cell=rows[r-1][i]\n",
    "\n",
    "            row_element= previous_row_previous_index_cell  + previous_row_same_index_cell\n",
    "\n",
    "            new_row.append(row_element)\n",
    "\n",
    "\n",
    "        new_row.append(1)    # a rows's last element is always one\n",
    "\n",
    "        rows.append(new_row)\n",
    "\n",
    "    return rows\n",
    "\n",
    "rows=Pascal_Triangle(5)\n",
    "\n",
    "for p in rows:\n",
    "    print(p)\n",
    "\n",
    "\n",
    "\n"
   ]
  },
  {
   "cell_type": "code",
   "execution_count": null,
   "metadata": {},
   "outputs": [],
   "source": []
  }
 ],
 "metadata": {
  "kernelspec": {
   "display_name": "Python 3",
   "language": "python",
   "name": "python3"
  },
  "language_info": {
   "codemirror_mode": {
    "name": "ipython",
    "version": 3
   },
   "file_extension": ".py",
   "mimetype": "text/x-python",
   "name": "python",
   "nbconvert_exporter": "python",
   "pygments_lexer": "ipython3",
   "version": "3.7.6"
  }
 },
 "nbformat": 4,
 "nbformat_minor": 4
}
