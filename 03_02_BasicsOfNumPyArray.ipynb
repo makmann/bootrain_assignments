{
 "cells": [
  {
   "cell_type": "markdown",
   "metadata": {},
   "source": [
    "# <font color=blue>Assignments for \"basics of NumPy Array\"</font>"
   ]
  },
  {
   "cell_type": "markdown",
   "metadata": {},
   "source": [
    "1. Create 3 lists representing house features, each list containing 10 values. First one for squaremeter of house, second one for rooms and last one for price. Then, create an array combining these lists."
   ]
  },
  {
   "cell_type": "code",
   "execution_count": 14,
   "metadata": {},
   "outputs": [
    {
     "name": "stdout",
     "output_type": "stream",
     "text": [
      "[[ 100  110  115  120  125  130  135  140  145  150]\n",
      " [   1    2    3    4    5    6    7    8    9   10]\n",
      " [1000 1100 1200 1300 1400 1500 1600 1700 1800 1900]]\n"
     ]
    }
   ],
   "source": [
    "import numpy as np\n",
    "\n",
    "list_squares=[100,110,115,120,125,130,135,140,145,150]\n",
    "list_rooms=[1,2,3,4,5,6,7,8,9,10]\n",
    "list_prices=[1000,1100,1200,1300,1400,1500,1600,1700,1800,1900]\n",
    "\n",
    "my_array2=np.array([list_squares,list_rooms,list_prices])\n",
    "\n",
    "print(my_array2)\n"
   ]
  },
  {
   "cell_type": "markdown",
   "metadata": {},
   "source": [
    "2. Transpose the array you have created, so that every line can represent features of one house."
   ]
  },
  {
   "cell_type": "code",
   "execution_count": 13,
   "metadata": {},
   "outputs": [
    {
     "name": "stdout",
     "output_type": "stream",
     "text": [
      "[[ 100    1 1000]\n",
      " [ 110    2 1100]\n",
      " [ 115    3 1200]\n",
      " [ 120    4 1300]\n",
      " [ 125    5 1400]\n",
      " [ 130    6 1500]\n",
      " [ 135    7 1600]\n",
      " [ 140    8 1700]\n",
      " [ 145    9 1800]\n",
      " [ 150   10 1900]]\n"
     ]
    }
   ],
   "source": [
    "\n",
    "my_array2.T\n",
    "print(my_array2.T)\n",
    "\n",
    " "
   ]
  },
  {
   "cell_type": "markdown",
   "metadata": {},
   "source": [
    "3. Display the shape of the array and explain what it means."
   ]
  },
  {
   "cell_type": "code",
   "execution_count": 8,
   "metadata": {},
   "outputs": [
    {
     "name": "stdout",
     "output_type": "stream",
     "text": [
      "Shape of the array is (3, 10)\n",
      "my_array is two dimentional array and it has 3 rows and 10 columns\n"
     ]
    }
   ],
   "source": [
    "shp=my_array2.shape\n",
    "print(\"Shape of the array is\",shp)\n",
    "print(\"my_array is two dimentional array and it has 3 rows and 10 columns\")"
   ]
  },
  {
   "cell_type": "markdown",
   "metadata": {},
   "source": [
    "4. Write a function that returns an array of ones with zeros where both row and column numbers are even. Sample array is below. Number of rows and columns will be entered as parameters.\n",
    "\n",
    "```python\n",
    "    shape(6 x 5) --> [[1   1   1   1   1]\n",
    "                      [1   0   1   0   1]\n",
    "                      [1   1   1   1   1]\n",
    "                      [1   0   1   0   1]\n",
    "                      [1   1   1   1   1]\n",
    "                      [1   0   1   0   1]]\n",
    "```"
   ]
  },
  {
   "cell_type": "code",
   "execution_count": 12,
   "metadata": {},
   "outputs": [
    {
     "name": "stdin",
     "output_type": "stream",
     "text": [
      "Enter rows number 6\n",
      "Enter columns number 5\n"
     ]
    },
    {
     "data": {
      "text/plain": [
       "array([[1, 1, 1, 1, 1],\n",
       "       [1, 0, 1, 0, 1],\n",
       "       [1, 1, 1, 1, 1],\n",
       "       [1, 0, 1, 0, 1],\n",
       "       [1, 1, 1, 1, 1],\n",
       "       [1, 0, 1, 0, 1]])"
      ]
     },
     "execution_count": 12,
     "metadata": {},
     "output_type": "execute_result"
    }
   ],
   "source": [
    "import numpy as np\n",
    "\n",
    "\n",
    "def arr_of_01(row,col):\n",
    "    my_array2=np.full((row,col),1)\n",
    "    \n",
    "    for i in range(1,row,2):\n",
    "        for j in range(1,col,2):\n",
    "            my_array2[i][j]=0\n",
    "              \n",
    "    return my_array2\n",
    "\n",
    "row=int(input(\"Enter rows number\"))\n",
    "col=int(input(\"Enter columns number\"))\n",
    "\n",
    "arr_of_01(row,col)"
   ]
  },
  {
   "cell_type": "code",
   "execution_count": null,
   "metadata": {},
   "outputs": [],
   "source": [
    "\n",
    "\n"
   ]
  }
 ],
 "metadata": {
  "kernelspec": {
   "display_name": "Python 3",
   "language": "python",
   "name": "python3"
  },
  "language_info": {
   "codemirror_mode": {
    "name": "ipython",
    "version": 3
   },
   "file_extension": ".py",
   "mimetype": "text/x-python",
   "name": "python",
   "nbconvert_exporter": "python",
   "pygments_lexer": "ipython3",
   "version": "3.7.6"
  }
 },
 "nbformat": 4,
 "nbformat_minor": 4
}
