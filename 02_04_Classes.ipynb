{
 "cells": [
  {
   "cell_type": "markdown",
   "metadata": {},
   "source": [
    "# Assignment for \"Classes\""
   ]
  },
  {
   "cell_type": "markdown",
   "metadata": {},
   "source": [
    "In a retail application, many customers visit the retail outlet to purchase various items. The manager of the retail outlet now wants to keep track of all its items' and customers’ data. To achieve this purpose, please:\n",
    "\n",
    "\n",
    "- Define two classes named as `item` (with `item_name` and `price` attributes) and `customer` (with `customer_id`, `phone_number` attributes and `purchase` method). `purchase` method should calculate the total price with the given item name amount."
   ]
  },
  {
   "cell_type": "code",
   "execution_count": null,
   "metadata": {},
   "outputs": [],
   "source": []
  },
  {
   "cell_type": "markdown",
   "metadata": {},
   "source": [
    "- Create an item."
   ]
  },
  {
   "cell_type": "code",
   "execution_count": null,
   "metadata": {},
   "outputs": [],
   "source": []
  },
  {
   "cell_type": "markdown",
   "metadata": {},
   "source": [
    "- Create a customer with an arbitrary ID and number."
   ]
  },
  {
   "cell_type": "code",
   "execution_count": null,
   "metadata": {},
   "outputs": [],
   "source": []
  },
  {
   "cell_type": "markdown",
   "metadata": {},
   "source": [
    "- Make customers buy an item with an arbitrary amount and then print the total price."
   ]
  },
  {
   "cell_type": "code",
   "execution_count": 70,
   "metadata": {},
   "outputs": [
    {
     "name": "stdout",
     "output_type": "stream",
     "text": [
      "Customer with customer ID 1111 purchased item BOOK1 with amount of 12 and the total price is 480\n"
     ]
    }
   ],
   "source": [
    "class item():\n",
    "    def __init__(self,item_name,price):\n",
    "        self.item_name=item_name\n",
    "        self.price=price\n",
    "        \n",
    "\n",
    "        \n",
    "class customer():\n",
    "    def __init__(self, customer_id, phone_number):\n",
    "        self.customer_id=customer_id\n",
    "        self.phone_number=phone_number\n",
    "        \n",
    "    \n",
    "    def purchase(self, item, amount):\n",
    "        calculate_purchase=item.price*amount\n",
    "        return calculate_purchase\n",
    "\n",
    "\n",
    "item_instance=item(\"BOOK1\",40)\n",
    "customer_instance=customer(1111,505505)\n",
    "\n",
    "amount=12\n",
    "total_amount=customer_instance.purchase(item_instance,amount)\n",
    "print(\"Customer with customer ID {} purchased item {} with amount of {} and the total price is {}\". format(customer_instance.customer_id,item_instance.item_name,amount, total_amount))"
   ]
  },
  {
   "cell_type": "code",
   "execution_count": null,
   "metadata": {},
   "outputs": [],
   "source": []
  },
  {
   "cell_type": "code",
   "execution_count": null,
   "metadata": {},
   "outputs": [],
   "source": []
  }
 ],
 "metadata": {
  "kernelspec": {
   "display_name": "Python 3",
   "language": "python",
   "name": "python3"
  },
  "language_info": {
   "codemirror_mode": {
    "name": "ipython",
    "version": 3
   },
   "file_extension": ".py",
   "mimetype": "text/x-python",
   "name": "python",
   "nbconvert_exporter": "python",
   "pygments_lexer": "ipython3",
   "version": "3.7.6"
  }
 },
 "nbformat": 4,
 "nbformat_minor": 4
}
