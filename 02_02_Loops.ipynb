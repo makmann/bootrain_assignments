{
 "cells": [
  {
   "cell_type": "markdown",
   "metadata": {},
   "source": [
    "# Assignments for \"Loops\""
   ]
  },
  {
   "cell_type": "markdown",
   "metadata": {},
   "source": [
    "1. Please form a multiplication table from user input.\n",
    "\n",
    "    Example :\n",
    "\n",
    "        Enter a number : 6\n",
    "        6 x 1 = 6                                                               \n",
    "        6 x 2 = 12                                                              \n",
    "        6 x 3 = 18                                                              \n",
    "        6 x 4 = 24                                                              \n",
    "        6 x 5 = 30                                                              \n",
    "        6 x 6 = 36                                                              \n",
    "        6 x 7 = 42                                                              \n",
    "        6 x 8 = 48                                                              \n",
    "        6 x 9 = 54                                                              \n",
    "        6 x 10 = 60 "
   ]
  },
  {
   "cell_type": "code",
   "execution_count": 5,
   "metadata": {},
   "outputs": [
    {
     "name": "stdin",
     "output_type": "stream",
     "text": [
      "Enter a number :  6\n"
     ]
    },
    {
     "name": "stdout",
     "output_type": "stream",
     "text": [
      "6 X 1 = 6 \n",
      "6 X 2 = 12 \n",
      "6 X 3 = 18 \n",
      "6 X 4 = 24 \n",
      "6 X 5 = 30 \n",
      "6 X 6 = 36 \n",
      "6 X 7 = 42 \n",
      "6 X 8 = 48 \n",
      "6 X 9 = 54 \n",
      "6 X 10 = 60 \n"
     ]
    }
   ],
   "source": [
    "number=int(input(\"Enter a number : \"))\n",
    "\n",
    "for i in range(1,11):\n",
    "    print(\"{} X {} = {} \".format(number,i,number*i))\n"
   ]
  },
  {
   "cell_type": "markdown",
   "metadata": {},
   "source": [
    "2. Simply by using list compherension, form a list by taking square of odds numbers and by calculating cube of even numbers from 1 to 20. <br><br>\n"
   ]
  },
  {
   "cell_type": "code",
   "execution_count": 26,
   "metadata": {},
   "outputs": [
    {
     "name": "stdout",
     "output_type": "stream",
     "text": [
      "list1: [1, 8, 9, 64, 25, 216, 49, 512, 81, 1000, 121, 1728, 169, 2744, 225, 4096, 289, 5832, 361, 8000]\n",
      "list2: [1, 8, 9, 64, 25, 216, 49, 512, 81, 1000, 121, 1728, 169, 2744, 225, 4096, 289, 5832, 361, 8000]\n"
     ]
    }
   ],
   "source": [
    "list1= []\n",
    "\n",
    "# with for loop \n",
    "for n in range(1,21):\n",
    "    if n%2==0:\n",
    "        list1.append(n**3)\n",
    "    else:\n",
    "        list1.append(n**2)\n",
    "        \n",
    "print(\"list1:\",list1)\n",
    "\n",
    "#with list comprehension\n",
    "\n",
    "list2=[n**3 if n%2==0 else n**2 for n in range(1,21)  ]\n",
    "\n",
    "print(\"list2:\",list2)\n",
    " \n"
   ]
  },
  {
   "cell_type": "markdown",
   "metadata": {},
   "source": [
    "3. Please type a code that inverts the initial user input.\n",
    "\n",
    "    Example : \"automobile\" --> \"elibomotua\"<br><br>"
   ]
  },
  {
   "cell_type": "code",
   "execution_count": 3,
   "metadata": {},
   "outputs": [
    {
     "name": "stdin",
     "output_type": "stream",
     "text": [
      "enter a string muhammet\n"
     ]
    },
    {
     "name": "stdout",
     "output_type": "stream",
     "text": [
      "muhammet -->temmahum \n"
     ]
    }
   ],
   "source": [
    "input_al= input(\"enter a string\")\n",
    "reverse=\"\"\n",
    "\n",
    "for i in range(len(input_al)):\n",
    "    reverse+=input_al[-(i+1)]\n",
    "\n",
    "print(\"{} -->{} \".format(input_al,reverse))\n",
    "\n",
    "\n"
   ]
  },
  {
   "cell_type": "markdown",
   "metadata": {},
   "source": [
    "4. Using `range(1, 201)`, make two lists. One is containing all even numbers and the other containing all odd numbers.<br><br>"
   ]
  },
  {
   "cell_type": "code",
   "execution_count": 5,
   "metadata": {},
   "outputs": [
    {
     "name": "stdout",
     "output_type": "stream",
     "text": [
      "Evens: [2, 4, 6, 8, 10, 12, 14, 16, 18, 20, 22, 24, 26, 28, 30, 32, 34, 36, 38, 40, 42, 44, 46, 48, 50, 52, 54, 56, 58, 60, 62, 64, 66, 68, 70, 72, 74, 76, 78, 80, 82, 84, 86, 88, 90, 92, 94, 96, 98, 100, 102, 104, 106, 108, 110, 112, 114, 116, 118, 120, 122, 124, 126, 128, 130, 132, 134, 136, 138, 140, 142, 144, 146, 148, 150, 152, 154, 156, 158, 160, 162, 164, 166, 168, 170, 172, 174, 176, 178, 180, 182, 184, 186, 188, 190, 192, 194, 196, 198, 200]\n",
      "--------------------------------------------------\n",
      "Odds: [1, 3, 5, 7, 9, 11, 13, 15, 17, 19, 21, 23, 25, 27, 29, 31, 33, 35, 37, 39, 41, 43, 45, 47, 49, 51, 53, 55, 57, 59, 61, 63, 65, 67, 69, 71, 73, 75, 77, 79, 81, 83, 85, 87, 89, 91, 93, 95, 97, 99, 101, 103, 105, 107, 109, 111, 113, 115, 117, 119, 121, 123, 125, 127, 129, 131, 133, 135, 137, 139, 141, 143, 145, 147, 149, 151, 153, 155, 157, 159, 161, 163, 165, 167, 169, 171, 173, 175, 177, 179, 181, 183, 185, 187, 189, 191, 193, 195, 197, 199]\n"
     ]
    }
   ],
   "source": [
    "evens=[]\n",
    "odds=[]\n",
    "\n",
    "for i in range(1,201):\n",
    "    if i%2==0:\n",
    "        evens.append(i)\n",
    "    else:\n",
    "        odds.append(i)\n",
    "\n",
    "print(\"Evens:\",evens)\n",
    "print(\"-\"*50)\n",
    "print(\"Odds:\",odds)\n",
    "    "
   ]
  },
  {
   "cell_type": "markdown",
   "metadata": {},
   "source": [
    "5. Define a function called `count` that has two arguments called `sequence` and `item`. Return the number of times the item occurs in the list.<br>\n",
    "\n",
    "    Example:\n",
    "    ```python\n",
    "    count([1,2,1,1], 1)\n",
    "    ```\n",
    "    It should return 3. Because `1` appears 3 times in the list.<br><br>"
   ]
  },
  {
   "cell_type": "code",
   "execution_count": 11,
   "metadata": {},
   "outputs": [
    {
     "name": "stdout",
     "output_type": "stream",
     "text": [
      "In list [1, 2, 1, 1] occurs 3 times 1\n"
     ]
    }
   ],
   "source": [
    "def count(sequence,item):\n",
    "    return sequence.count(item)\n",
    "\n",
    "list1=[1,2,1,1]\n",
    "item=1\n",
    "cnt=count(list1,item)\n",
    "\n",
    "print(\"In list {} occurs {} times {}\".format(list1,cnt,item))"
   ]
  },
  {
   "cell_type": "markdown",
   "metadata": {},
   "source": [
    "6. Write a function called `digit_sum` that takes a positive integer n as input and returns the sum of all that number's digits as a single-digit number.\n",
    "\n",
    "    Example:\n",
    "        27684 --> 2 + 7 + 6 + 8 + 4 = 27 --> 2 + 7 = 9<br>"
   ]
  },
  {
   "cell_type": "code",
   "execution_count": 42,
   "metadata": {},
   "outputs": [
    {
     "name": "stdout",
     "output_type": "stream",
     "text": [
      "91 => 1\n"
     ]
    }
   ],
   "source": [
    "def digit_sum(num):\n",
    "    \n",
    "    sum1=num\n",
    "    \n",
    "    while(sum1>9):\n",
    "        to_str=str(sum1)\n",
    "        total=0\n",
    "        for i in range(len(to_str)):\n",
    "            total+=int(to_str[i])\n",
    "        sum1=total\n",
    "    \n",
    "     \n",
    "    return sum1\n",
    "\n",
    "num=91\n",
    "print(\"{} => {}\".format(num,digit_sum(num)))\n",
    "\n"
   ]
  },
  {
   "cell_type": "markdown",
   "metadata": {},
   "source": [
    "7. Write a program to find greatest common divisor (GCD) or highest common factor (HCF) of given two numbers.<br><br>"
   ]
  },
  {
   "cell_type": "code",
   "execution_count": 65,
   "metadata": {},
   "outputs": [
    {
     "name": "stdout",
     "output_type": "stream",
     "text": [
      "greatest common divisor (GCD): 24\n",
      "highest common factor (HCF): 48\n"
     ]
    }
   ],
   "source": [
    "n1=24\n",
    "n2=48\n",
    "\n",
    "smallnum=n1\n",
    "if n2<smallnum:\n",
    "    smallnum=n2\n",
    "\n",
    "gcd=0\n",
    "\n",
    "for n in range(smallnum,0,-1):\n",
    "    if n2%n==0 and n1%n==0:\n",
    "        gcd=n\n",
    "        break\n",
    "\n",
    "print(\"greatest common divisor (GCD):\",gcd )\n",
    "\n",
    "bignum=n1\n",
    "if n2>bignum:\n",
    "    bignum=n2\n",
    "\n",
    "hcf=0\n",
    "\n",
    "for n in range(bignum,n1*n2):\n",
    "    if n%n1==0 and n%n2==0:\n",
    "        hcf=n\n",
    "        break\n",
    "\n",
    "\n",
    "print(\"highest common factor (HCF):\",hcf)"
   ]
  },
  {
   "cell_type": "markdown",
   "metadata": {},
   "source": [
    "\n",
    "8. Write a Python program that iterates integers from 1 to 50. For multiples of three print `fizz` instead of the number and for the multiples of five print `buzz`. For numbers which are multiples of both three and five print `fizzbuzz`.\n"
   ]
  },
  {
   "cell_type": "code",
   "execution_count": 51,
   "metadata": {},
   "outputs": [
    {
     "name": "stdout",
     "output_type": "stream",
     "text": [
      "1\n",
      "2\n",
      "fizz\n",
      "4\n",
      "buzz\n",
      "fizz\n",
      "7\n",
      "8\n",
      "fizz\n",
      "buzz\n",
      "11\n",
      "fizz\n",
      "13\n",
      "14\n",
      "fizzbuzz\n",
      "16\n",
      "17\n",
      "fizz\n",
      "19\n",
      "buzz\n",
      "fizz\n",
      "22\n",
      "23\n",
      "fizz\n",
      "buzz\n",
      "26\n",
      "fizz\n",
      "28\n",
      "29\n",
      "fizzbuzz\n",
      "31\n",
      "32\n",
      "fizz\n",
      "34\n",
      "buzz\n",
      "fizz\n",
      "37\n",
      "38\n",
      "fizz\n",
      "buzz\n",
      "41\n",
      "fizz\n",
      "43\n",
      "44\n",
      "fizzbuzz\n",
      "46\n",
      "47\n",
      "fizz\n",
      "49\n",
      "buzz\n"
     ]
    }
   ],
   "source": [
    "for n in range(1,51):\n",
    "    if n%3==0 and n%5==0:\n",
    "        print(\"fizzbuzz\")\n",
    "    elif n%3==0:\n",
    "        print(\"fizz\")\n",
    "    elif n%5==0:\n",
    "        print(\"buzz\")\n",
    "    else:\n",
    "        print(n)\n",
    "\n",
    "        "
   ]
  },
  {
   "cell_type": "markdown",
   "metadata": {},
   "source": [
    "9. Please form a list out of Fibonacci numbers from 1 to 50. The first two Fibonacci numbers are 1. The next numbers are the sum of the previous two."
   ]
  },
  {
   "cell_type": "code",
   "execution_count": 59,
   "metadata": {},
   "outputs": [
    {
     "name": "stdout",
     "output_type": "stream",
     "text": [
      "fibonacci numbers from 1 to 50 : [1, 1, 2, 3, 5, 8, 13, 21, 34, 55, 89, 144, 233, 377, 610, 987, 1597, 2584, 4181, 6765, 10946, 17711, 28657, 46368, 75025, 121393, 196418, 317811, 514229, 832040, 1346269, 2178309, 3524578, 5702887, 9227465, 14930352, 24157817, 39088169, 63245986, 102334155, 165580141, 267914296, 433494437, 701408733, 1134903170, 1836311903, 2971215073, 4807526976, 7778742049, 12586269025]\n"
     ]
    }
   ],
   "source": [
    "fibo=[1,1]\n",
    "for i in range(2,50):\n",
    "    n=fibo[i-1]+fibo[i-2]\n",
    "    fibo.append(n)\n",
    "\n",
    "print(\"fibonacci numbers from 1 to 50 :\", fibo)"
   ]
  },
  {
   "cell_type": "code",
   "execution_count": null,
   "metadata": {},
   "outputs": [],
   "source": []
  }
 ],
 "metadata": {
  "kernelspec": {
   "display_name": "Python 3",
   "language": "python",
   "name": "python3"
  },
  "language_info": {
   "codemirror_mode": {
    "name": "ipython",
    "version": 3
   },
   "file_extension": ".py",
   "mimetype": "text/x-python",
   "name": "python",
   "nbconvert_exporter": "python",
   "pygments_lexer": "ipython3",
   "version": "3.7.6"
  }
 },
 "nbformat": 4,
 "nbformat_minor": 4
}
