{
 "cells": [
  {
   "cell_type": "markdown",
   "metadata": {},
   "source": [
    "# Assignments for \"Conditional Statements\""
   ]
  },
  {
   "cell_type": "markdown",
   "metadata": {},
   "source": [
    "1. Please get Celcius or Fahrenheit degrees from users and type a code to convert these heat units to each other.  \n",
    "    For conversion, please use this formula: C = (5/9) * (F - 32)\n",
    "    \n",
    "        Example : \"40C\" --> \"104F\"\n",
    "                  \"52F\" --> \"11.1C\""
   ]
  },
  {
   "cell_type": "code",
   "execution_count": 3,
   "metadata": {},
   "outputs": [
    {
     "name": "stdin",
     "output_type": "stream",
     "text": [
      "Enter the temprature with unit, example, 30C or 50F  40C\n"
     ]
    },
    {
     "name": "stdout",
     "output_type": "stream",
     "text": [
      "\"40C\" --> equals to \"104.0F\" \n"
     ]
    }
   ],
   "source": [
    "temp=input(\"Enter the temprature with unit, example, 30C or 50F \")\n",
    "\n",
    "unit=temp[-1]\n",
    "tempValue=int(temp[:-1])\n",
    "\n",
    "#print(tempValue,unit)\n",
    "\n",
    "if unit==\"F\":\n",
    "    C=(5/9)*(tempValue-32)\n",
    "    print(\"\"\"\"{}\" --> equals to \"{:.1f}C\" \"\"\".format(temp,C))\n",
    "elif unit==\"C\":\n",
    "    F=((tempValue/(5/9)))+32\n",
    "    print(\"\"\"\"{}\" --> equals to \"{:.1f}F\" \"\"\".format(temp,F))\n",
    "    \n",
    "else:\n",
    "    print(\"Wrong unit entered\")\n",
    "    \n",
    "\n",
    "\n"
   ]
  },
  {
   "cell_type": "markdown",
   "metadata": {},
   "source": [
    "2. A company decided to give a bonus of 5% to the employees if his/her year of service is more than 5 years.\n",
    "Ask the user for their salary and year of service and print the net bonus amount."
   ]
  },
  {
   "cell_type": "code",
   "execution_count": 6,
   "metadata": {},
   "outputs": [
    {
     "name": "stdin",
     "output_type": "stream",
     "text": [
      "Enter your salary  1000\n",
      "Enter your year of service  3\n"
     ]
    },
    {
     "name": "stdout",
     "output_type": "stream",
     "text": [
      "You must work more than 5 years to get bonus\n"
     ]
    }
   ],
   "source": [
    "salary=int(input(\"Enter your salary \"))\n",
    "year_of_service=int(input(\"Enter your year of service \"))\n",
    "\n",
    "if year_of_service > 5 :\n",
    "    bonus=salary * 0.05\n",
    "    print(\"Your net bonus is:{:.2f}\".format(bonus))\n",
    "else:\n",
    "    print(\"You must work more than 5 years to get bonus\")\n"
   ]
  },
  {
   "cell_type": "markdown",
   "metadata": {},
   "source": [
    "3. Take input of ages of 3 people by the user and determine the oldest and youngest among them."
   ]
  },
  {
   "cell_type": "code",
   "execution_count": 3,
   "metadata": {},
   "outputs": [
    {
     "name": "stdin",
     "output_type": "stream",
     "text": [
      "Enter age1 11\n",
      "Enter age2 99\n",
      "Enter age3 1578\n"
     ]
    },
    {
     "name": "stdout",
     "output_type": "stream",
     "text": [
      "Minimum Age is 11 Maximum age is 1578\n"
     ]
    }
   ],
   "source": [
    "age1= int(input(\"Enter age1\"))\n",
    "age2= int(input(\"Enter age2\"))\n",
    "age3= int(input(\"Enter age3\"))\n",
    "\n",
    "max_age=age1\n",
    "min_age=age1\n",
    "\n",
    "if age2 > max_age:\n",
    "    max_age=age2\n",
    "if age2 < min_age:\n",
    "    min_age=age2\n",
    "\n",
    "if age3 > max_age:\n",
    "    max_age=age3\n",
    "if age3 < min_age:\n",
    "    min_age=age3\n",
    "    \n",
    "print (\"Minimum Age is {}\".format(min_age), \"Maximum age is {}\".format(max_age))\n",
    "\n"
   ]
  },
  {
   "cell_type": "markdown",
   "metadata": {},
   "source": [
    "4. A student will not be allowed to attend to the exam if his / her attendance to classes is less than 75%. Take followings input from the user:\n",
    "    - Number of classes held,\n",
    "    - Number of classes attended.\n",
    "   \n",
    "    Then, print the percentage of classes attended and whether the student is allowed to attend in an exam or not."
   ]
  },
  {
   "cell_type": "code",
   "execution_count": 5,
   "metadata": {},
   "outputs": [
    {
     "name": "stdin",
     "output_type": "stream",
     "text": [
      "Enter the classes held: 100\n",
      "Enter the classes attended: 76\n"
     ]
    },
    {
     "name": "stdout",
     "output_type": "stream",
     "text": [
      "Attendence of percentage 76.0\n",
      "The student is allowed to enter to the exam\n"
     ]
    }
   ],
   "source": [
    "class_held= int(input(\"Enter the classes held:\"))\n",
    "class_attend= int(input(\"Enter the classes attended:\"))\n",
    "\n",
    "percentage_attendance=100*class_attend/class_held\n",
    "\n",
    "print(\"Attendence of percentage\", percentage_attendance)\n",
    "\n",
    "if percentage_attendance >= 75:\n",
    "    print(\"The student is allowed to enter to the exam\")\n",
    "else:\n",
    "    print(\"The student is not alowed to enter to the exam\")\n",
    "        \n",
    "\n"
   ]
  },
  {
   "cell_type": "markdown",
   "metadata": {},
   "source": [
    "5. In this exercise, you will create a program that reads a letter of the alphabet from the user. According to the answer:\n",
    "\n",
    "    - If the user enters `a, e, i, o, u`, then your program should display a message indicating that the entered letter is a vowel.\n",
    "    - If the user enters `y`, then your program should display a message indicating that y is sometimes a vowel and sometimes a consonant.\n",
    "    - Otherwise, your program should display a message indicating that the letter is a consonant."
   ]
  },
  {
   "cell_type": "code",
   "execution_count": 20,
   "metadata": {},
   "outputs": [
    {
     "name": "stdin",
     "output_type": "stream",
     "text": [
      "enter a character t\n"
     ]
    },
    {
     "name": "stdout",
     "output_type": "stream",
     "text": [
      "The the letter t is a consonant.\n"
     ]
    }
   ],
   "source": [
    "vowel= [\"a\", \"e\", \"i\", \"o\", \"u\"]\n",
    "mixed= [\"y\"]\n",
    "\n",
    "input_chr= input(\"enter a character\")\n",
    "\n",
    "if input_chr in vowel:\n",
    "    print(\"The letter {} is a vowel\".format(input_chr))\n",
    "          \n",
    "elif input_chr in mixed:\n",
    "    print(\"The letter {} is sometimes a vowel and sometimes a consonant.\".format(input_chr))\n",
    "          \n",
    "else:\n",
    "     print(\"The the letter {} is a consonant.\".format(input_chr))\n",
    "\n",
    "    \n",
    "\n"
   ]
  },
  {
   "cell_type": "code",
   "execution_count": null,
   "metadata": {},
   "outputs": [],
   "source": []
  }
 ],
 "metadata": {
  "kernelspec": {
   "display_name": "Python 3",
   "language": "python",
   "name": "python3"
  },
  "language_info": {
   "codemirror_mode": {
    "name": "ipython",
    "version": 3
   },
   "file_extension": ".py",
   "mimetype": "text/x-python",
   "name": "python",
   "nbconvert_exporter": "python",
   "pygments_lexer": "ipython3",
   "version": "3.7.6"
  }
 },
 "nbformat": 4,
 "nbformat_minor": 4
}
