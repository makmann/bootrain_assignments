{
 "cells": [
  {
   "cell_type": "markdown",
   "metadata": {},
   "source": [
    "# <font color=blue>Assignments for \"Mathematical Operations on NumPy Arrays\"</font>"
   ]
  },
  {
   "cell_type": "markdown",
   "metadata": {},
   "source": [
    "1. Load the array you saved in the previous lesson from the disk."
   ]
  },
  {
   "cell_type": "code",
   "execution_count": 6,
   "metadata": {},
   "outputs": [
    {
     "data": {
      "text/plain": [
       "array([[ 1.    ,  1.    ,  1.    ,  1.    ,  1.    ],\n",
       "       [ 0.    , 37.4341, 35.852 ,  7.02  ,  4.1   ],\n",
       "       [ 0.    , 37.6878, 37.4016, 10.27  ,  4.4   ],\n",
       "       [ 0.    , 37.2003, 30.4376, 78.07  ,  4.    ],\n",
       "       [ 0.    , 35.6846, 26.7266, 42.77  ,  4.5   ],\n",
       "       [ 0.    , 36.4171, 28.6991, 14.86  ,  4.1   ],\n",
       "       [ 0.    , 36.0535, 31.2135, 36.68  ,  5.2   ],\n",
       "       [ 0.    , 37.1958, 30.6241, 50.33  ,  4.8   ],\n",
       "       [ 0.    , 36.9653, 27.7633,  6.93  ,  4.3   ],\n",
       "       [ 0.    , 38.893 , 26.4483, 11.62  ,  4.2   ],\n",
       "       [ 0.    , 37.3773, 36.3855, 10.53  ,  4.8   ],\n",
       "       [ 0.    , 35.8861, 26.0695, 28.49  ,  4.9   ],\n",
       "       [ 0.    , 37.4635, 36.3113, 15.29  ,  4.3   ],\n",
       "       [ 0.    , 37.0201, 36.0845, 10.    ,  4.1   ],\n",
       "       [ 0.    , 37.6546, 26.6698,  4.5   ,  4.5   ],\n",
       "       [ 0.    , 37.5318, 29.848 , 17.58  ,  4.6   ],\n",
       "       [ 0.    , 39.0388, 44.1533,  7.52  ,  4.5   ],\n",
       "       [ 0.    , 38.357 , 44.8686, 10.05  ,  4.1   ],\n",
       "       [ 0.    , 35.7018, 28.1495,  6.25  ,  4.1   ],\n",
       "       [ 0.    , 37.6883, 37.3968, 10.63  ,  4.1   ]])"
      ]
     },
     "execution_count": 6,
     "metadata": {},
     "output_type": "execute_result"
    }
   ],
   "source": [
    "import numpy as np\n",
    "erq_arr=np.load(\"Earthquakes2.npy\")\n",
    "erq_arr\n"
   ]
  },
  {
   "cell_type": "markdown",
   "metadata": {},
   "source": [
    "2. Display the mean and the standard deviation for each column."
   ]
  },
  {
   "cell_type": "code",
   "execution_count": 7,
   "metadata": {},
   "outputs": [
    {
     "name": "stdout",
     "output_type": "stream",
     "text": [
      "mean of each column [ 0.05     35.41254  31.105145 19.0195    4.23    ]\n",
      "standart deviation of each column [ 0.21794495  7.94782002  8.83572219 18.73871326  0.80690768]\n"
     ]
    }
   ],
   "source": [
    "print(\"mean of each column\",erq_arr.mean(axis=0) )\n",
    "# axis=0 all columns\n",
    "# axis=1 all rows\n",
    "print(\"standart deviation of each column\",erq_arr.std(axis=0))"
   ]
  },
  {
   "cell_type": "markdown",
   "metadata": {},
   "source": [
    "3. Subtract 1, 25, 25, 10, 4 from columns in order. (Remember it can be subtracted in one line of code.)"
   ]
  },
  {
   "cell_type": "code",
   "execution_count": 37,
   "metadata": {},
   "outputs": [
    {
     "name": "stdout",
     "output_type": "stream",
     "text": [
      "shape of erq_arr (20, 5)\n",
      "shape of new array (5,)\n"
     ]
    },
    {
     "data": {
      "text/plain": [
       "array([[ 0.00000e+00, -2.40000e+01, -2.40000e+01, -9.00000e+00,\n",
       "        -3.00000e+00],\n",
       "       [-1.00000e+00,  1.24341e+01,  1.08520e+01, -2.98000e+00,\n",
       "         1.00000e-01],\n",
       "       [-1.00000e+00,  1.26878e+01,  1.24016e+01,  2.70000e-01,\n",
       "         4.00000e-01],\n",
       "       [-1.00000e+00,  1.22003e+01,  5.43760e+00,  6.80700e+01,\n",
       "         0.00000e+00],\n",
       "       [-1.00000e+00,  1.06846e+01,  1.72660e+00,  3.27700e+01,\n",
       "         5.00000e-01],\n",
       "       [-1.00000e+00,  1.14171e+01,  3.69910e+00,  4.86000e+00,\n",
       "         1.00000e-01],\n",
       "       [-1.00000e+00,  1.10535e+01,  6.21350e+00,  2.66800e+01,\n",
       "         1.20000e+00],\n",
       "       [-1.00000e+00,  1.21958e+01,  5.62410e+00,  4.03300e+01,\n",
       "         8.00000e-01],\n",
       "       [-1.00000e+00,  1.19653e+01,  2.76330e+00, -3.07000e+00,\n",
       "         3.00000e-01],\n",
       "       [-1.00000e+00,  1.38930e+01,  1.44830e+00,  1.62000e+00,\n",
       "         2.00000e-01],\n",
       "       [-1.00000e+00,  1.23773e+01,  1.13855e+01,  5.30000e-01,\n",
       "         8.00000e-01],\n",
       "       [-1.00000e+00,  1.08861e+01,  1.06950e+00,  1.84900e+01,\n",
       "         9.00000e-01],\n",
       "       [-1.00000e+00,  1.24635e+01,  1.13113e+01,  5.29000e+00,\n",
       "         3.00000e-01],\n",
       "       [-1.00000e+00,  1.20201e+01,  1.10845e+01,  0.00000e+00,\n",
       "         1.00000e-01],\n",
       "       [-1.00000e+00,  1.26546e+01,  1.66980e+00, -5.50000e+00,\n",
       "         5.00000e-01],\n",
       "       [-1.00000e+00,  1.25318e+01,  4.84800e+00,  7.58000e+00,\n",
       "         6.00000e-01],\n",
       "       [-1.00000e+00,  1.40388e+01,  1.91533e+01, -2.48000e+00,\n",
       "         5.00000e-01],\n",
       "       [-1.00000e+00,  1.33570e+01,  1.98686e+01,  5.00000e-02,\n",
       "         1.00000e-01],\n",
       "       [-1.00000e+00,  1.07018e+01,  3.14950e+00, -3.75000e+00,\n",
       "         1.00000e-01],\n",
       "       [-1.00000e+00,  1.26883e+01,  1.23968e+01,  6.30000e-01,\n",
       "         1.00000e-01]])"
      ]
     },
     "execution_count": 37,
     "metadata": {},
     "output_type": "execute_result"
    }
   ],
   "source": [
    "print(\"shape of erq_arr\",erq_arr.shape)\n",
    "print(\"shape of new array\",np.array([1,25,25,10,4]).shape)\n",
    "subt_arr = erq_arr-np.array([1,25,25,10,4])\n",
    "subt_arr"
   ]
  },
  {
   "cell_type": "markdown",
   "metadata": {},
   "source": [
    "4. Multiply each element by 2. (Remember it can be multiplied in one line of code.)"
   ]
  },
  {
   "cell_type": "code",
   "execution_count": 38,
   "metadata": {},
   "outputs": [
    {
     "data": {
      "text/plain": [
       "array([[ 0.00000e+00, -4.80000e+01, -4.80000e+01, -1.80000e+01,\n",
       "        -6.00000e+00],\n",
       "       [-2.00000e+00,  2.48682e+01,  2.17040e+01, -5.96000e+00,\n",
       "         2.00000e-01],\n",
       "       [-2.00000e+00,  2.53756e+01,  2.48032e+01,  5.40000e-01,\n",
       "         8.00000e-01],\n",
       "       [-2.00000e+00,  2.44006e+01,  1.08752e+01,  1.36140e+02,\n",
       "         0.00000e+00],\n",
       "       [-2.00000e+00,  2.13692e+01,  3.45320e+00,  6.55400e+01,\n",
       "         1.00000e+00],\n",
       "       [-2.00000e+00,  2.28342e+01,  7.39820e+00,  9.72000e+00,\n",
       "         2.00000e-01],\n",
       "       [-2.00000e+00,  2.21070e+01,  1.24270e+01,  5.33600e+01,\n",
       "         2.40000e+00],\n",
       "       [-2.00000e+00,  2.43916e+01,  1.12482e+01,  8.06600e+01,\n",
       "         1.60000e+00],\n",
       "       [-2.00000e+00,  2.39306e+01,  5.52660e+00, -6.14000e+00,\n",
       "         6.00000e-01],\n",
       "       [-2.00000e+00,  2.77860e+01,  2.89660e+00,  3.24000e+00,\n",
       "         4.00000e-01],\n",
       "       [-2.00000e+00,  2.47546e+01,  2.27710e+01,  1.06000e+00,\n",
       "         1.60000e+00],\n",
       "       [-2.00000e+00,  2.17722e+01,  2.13900e+00,  3.69800e+01,\n",
       "         1.80000e+00],\n",
       "       [-2.00000e+00,  2.49270e+01,  2.26226e+01,  1.05800e+01,\n",
       "         6.00000e-01],\n",
       "       [-2.00000e+00,  2.40402e+01,  2.21690e+01,  0.00000e+00,\n",
       "         2.00000e-01],\n",
       "       [-2.00000e+00,  2.53092e+01,  3.33960e+00, -1.10000e+01,\n",
       "         1.00000e+00],\n",
       "       [-2.00000e+00,  2.50636e+01,  9.69600e+00,  1.51600e+01,\n",
       "         1.20000e+00],\n",
       "       [-2.00000e+00,  2.80776e+01,  3.83066e+01, -4.96000e+00,\n",
       "         1.00000e+00],\n",
       "       [-2.00000e+00,  2.67140e+01,  3.97372e+01,  1.00000e-01,\n",
       "         2.00000e-01],\n",
       "       [-2.00000e+00,  2.14036e+01,  6.29900e+00, -7.50000e+00,\n",
       "         2.00000e-01],\n",
       "       [-2.00000e+00,  2.53766e+01,  2.47936e+01,  1.26000e+00,\n",
       "         2.00000e-01]])"
      ]
     },
     "execution_count": 38,
     "metadata": {},
     "output_type": "execute_result"
    }
   ],
   "source": [
    "mult_arr=new_arr2*2\n",
    "mult_arr"
   ]
  },
  {
   "cell_type": "code",
   "execution_count": null,
   "metadata": {},
   "outputs": [],
   "source": []
  }
 ],
 "metadata": {
  "kernelspec": {
   "display_name": "Python 3",
   "language": "python",
   "name": "python3"
  },
  "language_info": {
   "codemirror_mode": {
    "name": "ipython",
    "version": 3
   },
   "file_extension": ".py",
   "mimetype": "text/x-python",
   "name": "python",
   "nbconvert_exporter": "python",
   "pygments_lexer": "ipython3",
   "version": "3.7.6"
  }
 },
 "nbformat": 4,
 "nbformat_minor": 4
}
