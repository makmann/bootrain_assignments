{
 "cells": [
  {
   "cell_type": "markdown",
   "metadata": {},
   "source": [
    "# Assignments for \"File Operations\""
   ]
  },
  {
   "cell_type": "markdown",
   "metadata": {},
   "source": [
    "1. Please write a poem you wanted in a `.txt` file and save it to the disk."
   ]
  },
  {
   "cell_type": "code",
   "execution_count": 25,
   "metadata": {},
   "outputs": [],
   "source": [
    "import os\n",
    "os.remove(\"poem1.txt\")\n",
    "\n",
    "with open(\"poem1.txt\",'w') as f: \n",
    "    f.write(\"\"\"\n",
    "    \n",
    "Der du von dem Himmel bist\n",
    "\n",
    "Der du von dem Himmel bist,\n",
    "Alles Leid und Schmerzen stillest,\n",
    "Den, der doppelt elend ist,\n",
    "Doppelt mit Erquickung füllest;\n",
    "\n",
    "Ach, ich bin des Treibens müde!\n",
    "Was soll all der Schmerz und Lust?\n",
    "Süßer Friede,\n",
    "Komm, ach komm in meine Brust!.\\n\"\"\")\n",
    "\n",
    "\n",
    "f.close()\n",
    "    \n"
   ]
  },
  {
   "cell_type": "markdown",
   "metadata": {},
   "source": [
    "2. Append a new poem into the file you have created."
   ]
  },
  {
   "cell_type": "code",
   "execution_count": 24,
   "metadata": {},
   "outputs": [],
   "source": [
    "with open(\"poem1.txt\",'a') as f:\n",
    "    f.write(\"\"\"\n",
    "\n",
    "Wanderer's Nightsong I\n",
    "\n",
    "Thou that from the heavens art,\n",
    "Every pain and sorrow stillest,\n",
    "And the doubly wretched heart\n",
    "Doubly with refreshment fillest,\n",
    "\n",
    "I am weary with contending!\n",
    "Why this pain and desire?\n",
    "Peace descending\n",
    "Come ah, come into my breast!.\n",
    "\n",
    "Johann Wolfgang von Goethe\\n\"\"\")\n",
    "\n",
    "f.close()"
   ]
  },
  {
   "cell_type": "markdown",
   "metadata": {},
   "source": [
    "3. Read and print all poems."
   ]
  },
  {
   "cell_type": "code",
   "execution_count": 23,
   "metadata": {},
   "outputs": [
    {
     "name": "stdout",
     "output_type": "stream",
     "text": [
      "\n",
      "    \n",
      "Der du von dem Himmel bist\n",
      "\n",
      "Der du von dem Himmel bist,\n",
      "Alles Leid und Schmerzen stillest,\n",
      "Den, der doppelt elend ist,\n",
      "Doppelt mit Erquickung füllest;\n",
      "\n",
      "Ach, ich bin des Treibens müde!\n",
      "Was soll all der Schmerz und Lust?\n",
      "Süßer Friede,\n",
      "Komm, ach komm in meine Brust!.\n",
      "\n",
      "\n",
      "Wanderer's Nightsong I\n",
      "\n",
      "Thou that from the heavens art,\n",
      "Every pain and sorrow stillest,\n",
      "And the doubly wretched heart\n",
      "Doubly with refreshment fillest,\n",
      "\n",
      "I am weary with contending!\n",
      "Why this pain and desire?\n",
      "Peace descending\n",
      "Come ah, come into my breast!.\n",
      "\n"
     ]
    }
   ],
   "source": [
    "with open(\"poem1.txt\", \"r\") as f:\n",
    "    poem=f.read()\n",
    "    print(poem)\n",
    "\n",
    "f.close()   "
   ]
  },
  {
   "cell_type": "code",
   "execution_count": null,
   "metadata": {},
   "outputs": [],
   "source": []
  }
 ],
 "metadata": {
  "kernelspec": {
   "display_name": "Python 3",
   "language": "python",
   "name": "python3"
  },
  "language_info": {
   "codemirror_mode": {
    "name": "ipython",
    "version": 3
   },
   "file_extension": ".py",
   "mimetype": "text/x-python",
   "name": "python",
   "nbconvert_exporter": "python",
   "pygments_lexer": "ipython3",
   "version": "3.7.6"
  }
 },
 "nbformat": 4,
 "nbformat_minor": 4
}
