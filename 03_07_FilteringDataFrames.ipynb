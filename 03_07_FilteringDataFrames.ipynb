{
 "cells": [
  {
   "cell_type": "markdown",
   "metadata": {},
   "source": [
    "# <font color=blue>Assignments for Filtering Dataframes</font>\n",
    "\n",
    "For Pandas assignments, you are going to use [Titanic](https://www.kaggle.com/c/titanic/download/GQf0y8ebHO0C4JXscPPp%2Fversions%2FXkNkvXwqPPVG0Qt3MtQT%2Ffiles%2Ftrain.csv) (train.csv) dataset. Download the dataset and load to a DataFrame.\n",
    "\n",
    "1. By using conditional selection methods, calculate the survival rate for all passengers under 30 years old.\n"
   ]
  },
  {
   "cell_type": "code",
   "execution_count": 33,
   "metadata": {},
   "outputs": [
    {
     "name": "stdout",
     "output_type": "stream",
     "text": [
      "Survival rate: 0.40625\n"
     ]
    }
   ],
   "source": [
    "import pandas as pd\n",
    "train_data = pd.read_csv(\"train.csv\", index_col=0)\n",
    "train_data\n",
    "\n",
    "df_under30=train_data[train_data.Age<30]\n",
    "\n",
    "total_count = df_under30[\"Survived\"].count()\n",
    "total_survived= df_under30[\"Survived\"][df_under30[\"Survived\"]==1].count()\n",
    "survived_rate= (total_survived/total_count)\n",
    "\n",
    "print(\"Survival rate:\",survived_rate)"
   ]
  },
  {
   "cell_type": "markdown",
   "metadata": {},
   "source": [
    "2. Calculate the survival rate by gender."
   ]
  },
  {
   "cell_type": "code",
   "execution_count": 32,
   "metadata": {},
   "outputs": [
    {
     "name": "stdout",
     "output_type": "stream",
     "text": [
      "Males survivale rate 0.18890814558058924\n",
      "Females survival rate 0.7420382165605095\n"
     ]
    }
   ],
   "source": [
    "df_gen_survived=train_data[[\"Sex\",\"Survived\"]]\n",
    "total_count2= df_gen_survived.count()\n",
    "#count_df_gen_survived= df_gen_survived.Sex==1\n",
    "\n",
    "males=df_gen_survived[df_gen_survived.Sex==\"male\"]\n",
    "males_count=males[\"Survived\"].count()\n",
    "males_survived_count=males[males.Survived==1][\"Survived\"].count()\n",
    "males_survived_rate=(males_survived_count/males_count)\n",
    "\n",
    "print(\"Males survivale rate\",males_survived_rate)\n",
    "\n",
    "females=df_gen_survived[df_gen_survived.Sex==\"female\"]\n",
    "females_count=females[\"Survived\"].count()\n",
    "females_survived_count=females[females.Survived==1][\"Survived\"].count()\n",
    "females_survived_rate=(females_survived_count/females_count)\n",
    "\n",
    "print(\"Females survival rate\",females_survived_rate)\n"
   ]
  },
  {
   "cell_type": "code",
   "execution_count": null,
   "metadata": {},
   "outputs": [],
   "source": []
  },
  {
   "cell_type": "code",
   "execution_count": null,
   "metadata": {},
   "outputs": [],
   "source": []
  }
 ],
 "metadata": {
  "kernelspec": {
   "display_name": "Python 3",
   "language": "python",
   "name": "python3"
  },
  "language_info": {
   "codemirror_mode": {
    "name": "ipython",
    "version": 3
   },
   "file_extension": ".py",
   "mimetype": "text/x-python",
   "name": "python",
   "nbconvert_exporter": "python",
   "pygments_lexer": "ipython3",
   "version": "3.7.6"
  }
 },
 "nbformat": 4,
 "nbformat_minor": 4
}
